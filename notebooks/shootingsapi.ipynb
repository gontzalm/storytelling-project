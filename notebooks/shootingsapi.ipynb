{
 "metadata": {
  "language_info": {
   "codemirror_mode": {
    "name": "ipython",
    "version": 3
   },
   "file_extension": ".py",
   "mimetype": "text/x-python",
   "name": "python",
   "nbconvert_exporter": "python",
   "pygments_lexer": "ipython3",
   "version": "3.8.5-final"
  },
  "orig_nbformat": 2,
  "kernelspec": {
   "name": "python_defaultSpec_1599555811131",
   "display_name": "Python 3.8.5 64-bit"
  }
 },
 "nbformat": 4,
 "nbformat_minor": 2,
 "cells": [
  {
   "cell_type": "markdown",
   "metadata": {},
   "source": [
    "## Shootings Plotting API"
   ]
  },
  {
   "cell_type": "code",
   "execution_count": 1,
   "metadata": {},
   "outputs": [],
   "source": [
    "import pandas as pd\n",
    "import src.shootingsapi as sa"
   ]
  },
  {
   "cell_type": "code",
   "execution_count": 2,
   "metadata": {},
   "outputs": [],
   "source": [
    "shootings = pd.read_csv(\"../output/shootings_clean.csv\", index_col=\"Date\")\n",
    "shootings.index = pd.to_datetime(shootings.index)"
   ]
  },
  {
   "cell_type": "markdown",
   "metadata": {},
   "source": [
    "### 1. Count total deaths"
   ]
  },
  {
   "cell_type": "code",
   "execution_count": 3,
   "metadata": {
    "tags": []
   },
   "outputs": [
    {
     "output_type": "stream",
     "name": "stdout",
     "text": "Help on function count_total in module src.shootingsapi:\n\ncount_total(data, state=None)\n    Count total deaths.\n    \n    Args:\n        data (DataFrame): DataFrame containing the shootings data.\n        state (str, optional): State to select when counting.\n    \n    Returns:\n        None.\n\n"
    }
   ],
   "source": [
    "help(sa.count_total)"
   ]
  },
  {
   "cell_type": "code",
   "execution_count": 4,
   "metadata": {},
   "outputs": [],
   "source": [
    "#sa.count_total(shootings, state=None)"
   ]
  },
  {
   "cell_type": "markdown",
   "metadata": {},
   "source": [
    "### 2. Show death trends"
   ]
  },
  {
   "cell_type": "code",
   "execution_count": 5,
   "metadata": {
    "tags": []
   },
   "outputs": [
    {
     "output_type": "stream",
     "name": "stdout",
     "text": "Help on function show_trend in module src.shootingsapi:\n\nshow_trend(data, attr=None, time_interval=None, state=None, city=None)\n    Plot death trend (total deaths by month).\n    \n    Args:\n        data (DataFrame): DataFrame containing the shootings data.\n        attr (str, optional): Group deaths by this attribute.\n        time_interval (tuple of int, optional): Time interval to consider, in years.\n        state (str, optional): State to plot.\n        city (str, optional): City to plot. \"state\" should be None if this parameter is used.\n    \n    Returns:\n        None.\n\n"
    }
   ],
   "source": [
    "help(sa.show_trend)"
   ]
  },
  {
   "cell_type": "code",
   "execution_count": 6,
   "metadata": {},
   "outputs": [],
   "source": [
    "#sa.show_trend(shootings, attr=None, time_interval=None, state=None, city=None)"
   ]
  },
  {
   "cell_type": "markdown",
   "metadata": {},
   "source": [
    "### 3. Plot age distribution of the victims"
   ]
  },
  {
   "cell_type": "code",
   "execution_count": 7,
   "metadata": {
    "tags": []
   },
   "outputs": [
    {
     "output_type": "stream",
     "name": "stdout",
     "text": "Help on function age_dist in module src.shootingsapi:\n\nage_dist(data, rows=None, cols=None, state=None, city=None)\n    Plot age distplot.\n    \n    Args:\n        data (DataFrame): DataFrame containing the shootings data.\n        rows (str or list of str): Attributes to show in the FacetGrid rows.\n        cols (str or list of str): Attributes to show in the FacetGrid columns.\n        state (str, optional): State to plot.\n        city (str, optional): City to plot. \"state\" should be None if this parameter is used.\n    \n    Returns:\n        None.\n\n"
    }
   ],
   "source": [
    "help(sa.age_dist)"
   ]
  },
  {
   "cell_type": "code",
   "execution_count": 8,
   "metadata": {},
   "outputs": [],
   "source": [
    "#sa.age_dist(shootings, rows=None, cols=None, state=None, city=None)"
   ]
  },
  {
   "cell_type": "markdown",
   "metadata": {},
   "source": [
    "### 4. Plot race pie chart"
   ]
  },
  {
   "cell_type": "code",
   "execution_count": 9,
   "metadata": {
    "tags": []
   },
   "outputs": [
    {
     "output_type": "stream",
     "name": "stdout",
     "text": "Help on function race_pie in module src.shootingsapi:\n\nrace_pie(data, attr=None, time_interval=None, state=None, city=None)\n    Plot race pie chart.\n    \n    Args:\n        data (DataFrame): DataFrame containing the shootings data.\n        attr (str, optional): Group deaths by this attribute.\n        time_interval (tuple of int, optional): Time interval to consider, in years.\n        state (str, optional): State to plot.\n        city (str, optional): City to plot. \"state\" should be None if this parameter is used.\n    \n    Returns:\n        None.\n\n"
    }
   ],
   "source": [
    "help(sa.race_pie)"
   ]
  },
  {
   "cell_type": "code",
   "execution_count": 10,
   "metadata": {},
   "outputs": [],
   "source": [
    "#sa.race_pie(shootings, attr=None, time_interval=None, state=None, city=None)"
   ]
  },
  {
   "cell_type": "markdown",
   "metadata": {},
   "source": [
    "### 5. Plot top X arm usage"
   ]
  },
  {
   "cell_type": "code",
   "execution_count": 11,
   "metadata": {
    "tags": []
   },
   "outputs": [
    {
     "output_type": "stream",
     "name": "stdout",
     "text": "Help on function top_arms in module src.shootingsapi:\n\ntop_arms(data, attr=None, top=5, percentage=False, time_interval=None, state=None, city=None)\n    Plot a summary of top \"armed\" category values.\n    \n    Args:\n        data (DataFrame): DataFrame containing the shootings data.\n        attr (str, optional): Group deaths by this attribute.\n        top (int, default 5): Select this ammount of top arms.\n        percentage (bool, default False): Wether to plot in percentage.\n        time_interval (tuple of int, optional): Time interval to show, in years.\n        state (str, optional): State to plot.\n        city (str, optional): City to plot. \"state\" should be None if this parameter is used.\n    \n    Returns:\n        None.\n\n"
    }
   ],
   "source": [
    "help(sa.top_arms)"
   ]
  },
  {
   "cell_type": "code",
   "execution_count": 12,
   "metadata": {},
   "outputs": [],
   "source": [
    "#sa.top_arms(shootings, attr=None, top=5, percentage=False, time_interval=None, state=None, city=None)"
   ]
  }
 ]
}