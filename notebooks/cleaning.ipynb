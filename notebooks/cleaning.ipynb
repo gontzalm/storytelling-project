{
 "metadata": {
  "language_info": {
   "codemirror_mode": {
    "name": "ipython",
    "version": 3
   },
   "file_extension": ".py",
   "mimetype": "text/x-python",
   "name": "python",
   "nbconvert_exporter": "python",
   "pygments_lexer": "ipython3",
   "version": "3.8.5-final"
  },
  "orig_nbformat": 2,
  "kernelspec": {
   "name": "python_defaultSpec_1599409145098",
   "display_name": "Python 3.8.5 64-bit ('ih': conda)"
  }
 },
 "nbformat": 4,
 "nbformat_minor": 2,
 "cells": [
  {
   "cell_type": "markdown",
   "metadata": {},
   "source": [
    "### 1. Import packages and dataset"
   ]
  },
  {
   "cell_type": "code",
   "execution_count": 1,
   "metadata": {},
   "outputs": [],
   "source": [
    "import pandas as pd\n",
    "from src.cleanfuncs import extract_states_dict, parse_snake_case"
   ]
  },
  {
   "cell_type": "code",
   "execution_count": 2,
   "metadata": {},
   "outputs": [],
   "source": [
    "shootings = pd.read_csv(\"../input/fatal-police-shootings-data.csv\", na_values={\"armed\": \"undetermined\", \"threat_level\": \"undetermined\"})"
   ]
  },
  {
   "cell_type": "markdown",
   "metadata": {},
   "source": [
    "### 2. Exploratory Analysis"
   ]
  },
  {
   "cell_type": "code",
   "execution_count": 3,
   "metadata": {},
   "outputs": [
    {
     "output_type": "execute_result",
     "data": {
      "text/plain": "   id                name        date   manner_of_death       armed   age  \\\n0   3          Tim Elliot  2015-01-02              shot         gun  53.0   \n1   4    Lewis Lee Lembke  2015-01-02              shot         gun  47.0   \n2   5  John Paul Quintero  2015-01-03  shot and Tasered     unarmed  23.0   \n3   8     Matthew Hoffman  2015-01-04              shot  toy weapon  32.0   \n4   9   Michael Rodriguez  2015-01-04              shot    nail gun  39.0   \n\n  gender race           city state  signs_of_mental_illness threat_level  \\\n0      M    A        Shelton    WA                     True       attack   \n1      M    W          Aloha    OR                    False       attack   \n2      M    H        Wichita    KS                    False        other   \n3      M    W  San Francisco    CA                     True       attack   \n4      M    H          Evans    CO                    False       attack   \n\n          flee  body_camera  longitude  latitude  is_geocoding_exact  \n0  Not fleeing        False   -123.122    47.247                True  \n1  Not fleeing        False   -122.892    45.487                True  \n2  Not fleeing        False    -97.281    37.695                True  \n3  Not fleeing        False   -122.422    37.763                True  \n4  Not fleeing        False   -104.692    40.384                True  ",
      "text/html": "<div>\n<style scoped>\n    .dataframe tbody tr th:only-of-type {\n        vertical-align: middle;\n    }\n\n    .dataframe tbody tr th {\n        vertical-align: top;\n    }\n\n    .dataframe thead th {\n        text-align: right;\n    }\n</style>\n<table border=\"1\" class=\"dataframe\">\n  <thead>\n    <tr style=\"text-align: right;\">\n      <th></th>\n      <th>id</th>\n      <th>name</th>\n      <th>date</th>\n      <th>manner_of_death</th>\n      <th>armed</th>\n      <th>age</th>\n      <th>gender</th>\n      <th>race</th>\n      <th>city</th>\n      <th>state</th>\n      <th>signs_of_mental_illness</th>\n      <th>threat_level</th>\n      <th>flee</th>\n      <th>body_camera</th>\n      <th>longitude</th>\n      <th>latitude</th>\n      <th>is_geocoding_exact</th>\n    </tr>\n  </thead>\n  <tbody>\n    <tr>\n      <th>0</th>\n      <td>3</td>\n      <td>Tim Elliot</td>\n      <td>2015-01-02</td>\n      <td>shot</td>\n      <td>gun</td>\n      <td>53.0</td>\n      <td>M</td>\n      <td>A</td>\n      <td>Shelton</td>\n      <td>WA</td>\n      <td>True</td>\n      <td>attack</td>\n      <td>Not fleeing</td>\n      <td>False</td>\n      <td>-123.122</td>\n      <td>47.247</td>\n      <td>True</td>\n    </tr>\n    <tr>\n      <th>1</th>\n      <td>4</td>\n      <td>Lewis Lee Lembke</td>\n      <td>2015-01-02</td>\n      <td>shot</td>\n      <td>gun</td>\n      <td>47.0</td>\n      <td>M</td>\n      <td>W</td>\n      <td>Aloha</td>\n      <td>OR</td>\n      <td>False</td>\n      <td>attack</td>\n      <td>Not fleeing</td>\n      <td>False</td>\n      <td>-122.892</td>\n      <td>45.487</td>\n      <td>True</td>\n    </tr>\n    <tr>\n      <th>2</th>\n      <td>5</td>\n      <td>John Paul Quintero</td>\n      <td>2015-01-03</td>\n      <td>shot and Tasered</td>\n      <td>unarmed</td>\n      <td>23.0</td>\n      <td>M</td>\n      <td>H</td>\n      <td>Wichita</td>\n      <td>KS</td>\n      <td>False</td>\n      <td>other</td>\n      <td>Not fleeing</td>\n      <td>False</td>\n      <td>-97.281</td>\n      <td>37.695</td>\n      <td>True</td>\n    </tr>\n    <tr>\n      <th>3</th>\n      <td>8</td>\n      <td>Matthew Hoffman</td>\n      <td>2015-01-04</td>\n      <td>shot</td>\n      <td>toy weapon</td>\n      <td>32.0</td>\n      <td>M</td>\n      <td>W</td>\n      <td>San Francisco</td>\n      <td>CA</td>\n      <td>True</td>\n      <td>attack</td>\n      <td>Not fleeing</td>\n      <td>False</td>\n      <td>-122.422</td>\n      <td>37.763</td>\n      <td>True</td>\n    </tr>\n    <tr>\n      <th>4</th>\n      <td>9</td>\n      <td>Michael Rodriguez</td>\n      <td>2015-01-04</td>\n      <td>shot</td>\n      <td>nail gun</td>\n      <td>39.0</td>\n      <td>M</td>\n      <td>H</td>\n      <td>Evans</td>\n      <td>CO</td>\n      <td>False</td>\n      <td>attack</td>\n      <td>Not fleeing</td>\n      <td>False</td>\n      <td>-104.692</td>\n      <td>40.384</td>\n      <td>True</td>\n    </tr>\n  </tbody>\n</table>\n</div>"
     },
     "metadata": {},
     "execution_count": 3
    }
   ],
   "source": [
    "shootings.head()"
   ]
  },
  {
   "cell_type": "code",
   "execution_count": 4,
   "metadata": {
    "tags": []
   },
   "outputs": [
    {
     "output_type": "stream",
     "name": "stdout",
     "text": "<class 'pandas.core.frame.DataFrame'>\nRangeIndex: 5610 entries, 0 to 5609\nData columns (total 17 columns):\n #   Column                   Non-Null Count  Dtype  \n---  ------                   --------------  -----  \n 0   id                       5610 non-null   int64  \n 1   name                     5405 non-null   object \n 2   date                     5610 non-null   object \n 3   manner_of_death          5610 non-null   object \n 4   armed                    5226 non-null   object \n 5   age                      5360 non-null   float64\n 6   gender                   5609 non-null   object \n 7   race                     4997 non-null   object \n 8   city                     5610 non-null   object \n 9   state                    5610 non-null   object \n 10  signs_of_mental_illness  5610 non-null   bool   \n 11  threat_level             5362 non-null   object \n 12  flee                     5337 non-null   object \n 13  body_camera              5610 non-null   bool   \n 14  longitude                5341 non-null   float64\n 15  latitude                 5341 non-null   float64\n 16  is_geocoding_exact       5610 non-null   bool   \ndtypes: bool(3), float64(3), int64(1), object(10)\nmemory usage: 630.2+ KB\n"
    }
   ],
   "source": [
    "shootings.info()"
   ]
  },
  {
   "cell_type": "code",
   "execution_count": 5,
   "metadata": {},
   "outputs": [
    {
     "output_type": "execute_result",
     "data": {
      "text/plain": "id                           0\nname                       205\ndate                         0\nmanner_of_death              0\narmed                      384\nage                        250\ngender                       1\nrace                       613\ncity                         0\nstate                        0\nsigns_of_mental_illness      0\nthreat_level               248\nflee                       273\nbody_camera                  0\nlongitude                  269\nlatitude                   269\nis_geocoding_exact           0\ndtype: int64"
     },
     "metadata": {},
     "execution_count": 5
    }
   ],
   "source": [
    "shootings.isnull().sum()"
   ]
  },
  {
   "cell_type": "code",
   "execution_count": 6,
   "metadata": {},
   "outputs": [
    {
     "output_type": "execute_result",
     "data": {
      "text/plain": "shot                5331\nshot and Tasered     279\nName: manner_of_death, dtype: int64"
     },
     "metadata": {},
     "execution_count": 6
    }
   ],
   "source": [
    "shootings[\"manner_of_death\"].value_counts()"
   ]
  },
  {
   "cell_type": "code",
   "execution_count": 7,
   "metadata": {},
   "outputs": [
    {
     "output_type": "execute_result",
     "data": {
      "text/plain": "gun               3183\nknife              828\nunarmed            356\ntoy weapon         193\nvehicle            161\n                  ... \nmetal rake           1\nbean-bag gun         1\nbarstool             1\ngun and sword        1\ncordless drill       1\nName: armed, Length: 94, dtype: int64"
     },
     "metadata": {},
     "execution_count": 7
    }
   ],
   "source": [
    "shootings[\"armed\"].value_counts()"
   ]
  },
  {
   "cell_type": "code",
   "execution_count": 8,
   "metadata": {},
   "outputs": [
    {
     "output_type": "execute_result",
     "data": {
      "text/plain": "spear                  1\ntire iron              1\nair pistol             1\nmotorcycle             1\nvehicle and machete    1\nBB gun and vehicle     1\nstapler                1\nmetal hand tool        1\nbow and arrow          1\nwalking stick          1\ncar, knife and mace    1\noar                    1\nice pick               1\nnail gun               1\ncontractor's level     1\nmetal rake             1\nbean-bag gun           1\nbarstool               1\ngun and sword          1\ncordless drill         1\nName: armed, dtype: int64"
     },
     "metadata": {},
     "execution_count": 8
    }
   ],
   "source": [
    "shootings[\"armed\"].value_counts().tail(20)"
   ]
  },
  {
   "cell_type": "code",
   "execution_count": 9,
   "metadata": {},
   "outputs": [
    {
     "output_type": "execute_result",
     "data": {
      "text/plain": "array(['A', 'W', 'H', 'B', 'O', nan, 'N'], dtype=object)"
     },
     "metadata": {},
     "execution_count": 9
    }
   ],
   "source": [
    "shootings[\"race\"].unique()"
   ]
  },
  {
   "cell_type": "code",
   "execution_count": 10,
   "metadata": {},
   "outputs": [
    {
     "output_type": "execute_result",
     "data": {
      "text/plain": "Ruth               1\nCanaan Township    1\nNorth St. Louis    1\nBremerton          1\nRosedale           1\nMinot              1\nLogan County       1\nWilloughby         1\nMcIntosh County    1\nCape Canaveral     1\nName: city, dtype: int64"
     },
     "metadata": {},
     "execution_count": 10
    }
   ],
   "source": [
    "shootings[\"city\"].value_counts().tail(10)"
   ]
  },
  {
   "cell_type": "code",
   "execution_count": 11,
   "metadata": {},
   "outputs": [
    {
     "output_type": "execute_result",
     "data": {
      "text/plain": "array(['WA', 'OR', 'KS', 'CA', 'CO', 'OK', 'AZ', 'IA', 'PA', 'TX', 'OH',\n       'LA', 'MT', 'UT', 'AR', 'IL', 'NV', 'NM', 'MN', 'MO', 'VA', 'NJ',\n       'IN', 'KY', 'MA', 'NH', 'FL', 'ID', 'MD', 'NE', 'MI', 'GA', 'TN',\n       'NC', 'AK', 'NY', 'ME', 'AL', 'MS', 'WI', 'SC', 'DE', 'DC', 'WV',\n       'HI', 'WY', 'ND', 'CT', 'SD', 'VT', 'RI'], dtype=object)"
     },
     "metadata": {},
     "execution_count": 11
    }
   ],
   "source": [
    "shootings[\"state\"].unique()"
   ]
  },
  {
   "cell_type": "code",
   "execution_count": 12,
   "metadata": {},
   "outputs": [
    {
     "output_type": "execute_result",
     "data": {
      "text/plain": "False    4356\nTrue     1254\nName: signs_of_mental_illness, dtype: int64"
     },
     "metadata": {},
     "execution_count": 12
    }
   ],
   "source": [
    "shootings[\"signs_of_mental_illness\"].value_counts()"
   ]
  },
  {
   "cell_type": "code",
   "execution_count": 13,
   "metadata": {},
   "outputs": [
    {
     "output_type": "execute_result",
     "data": {
      "text/plain": "array(['attack', 'other', nan], dtype=object)"
     },
     "metadata": {},
     "execution_count": 13
    }
   ],
   "source": [
    "shootings[\"threat_level\"].unique()"
   ]
  },
  {
   "cell_type": "code",
   "execution_count": 14,
   "metadata": {},
   "outputs": [
    {
     "output_type": "execute_result",
     "data": {
      "text/plain": "array(['Not fleeing', 'Car', 'Foot', 'Other', nan], dtype=object)"
     },
     "metadata": {},
     "execution_count": 14
    }
   ],
   "source": [
    "shootings[\"flee\"].unique()"
   ]
  },
  {
   "cell_type": "code",
   "execution_count": 15,
   "metadata": {},
   "outputs": [
    {
     "output_type": "execute_result",
     "data": {
      "text/plain": "False    4951\nTrue      659\nName: body_camera, dtype: int64"
     },
     "metadata": {},
     "execution_count": 15
    }
   ],
   "source": [
    "shootings[\"body_camera\"].value_counts()"
   ]
  },
  {
   "cell_type": "code",
   "execution_count": 16,
   "metadata": {},
   "outputs": [
    {
     "output_type": "execute_result",
     "data": {
      "text/plain": "array([ True, False])"
     },
     "metadata": {},
     "execution_count": 16
    }
   ],
   "source": [
    "shootings[\"is_geocoding_exact\"].unique()"
   ]
  },
  {
   "cell_type": "code",
   "execution_count": 17,
   "metadata": {},
   "outputs": [
    {
     "output_type": "execute_result",
     "data": {
      "text/plain": "2860    7\n5362    7\n3152    6\n3172    6\n3840    6\n       ..\n3280    0\n3279    0\n3276    0\n3275    0\n0       0\nLength: 5610, dtype: int64"
     },
     "metadata": {},
     "execution_count": 17
    }
   ],
   "source": [
    "# search for rows with highest number of null values\n",
    "shootings.isnull().sum(axis=1).sort_values(ascending=False)"
   ]
  },
  {
   "cell_type": "markdown",
   "metadata": {},
   "source": [
    "### 3. Cleaning\n",
    "#### Drop unuseful columns."
   ]
  },
  {
   "cell_type": "code",
   "execution_count": 18,
   "metadata": {},
   "outputs": [],
   "source": [
    "shootings.drop(columns=[\"id\", \"name\"], inplace=True)"
   ]
  },
  {
   "cell_type": "markdown",
   "metadata": {},
   "source": [
    "#### Fix columns with lowercase values"
   ]
  },
  {
   "cell_type": "code",
   "execution_count": 19,
   "metadata": {},
   "outputs": [],
   "source": [
    "for column in [\"manner_of_death\", \"armed\", \"threat_level\"]:\n",
    "    shootings[column] = shootings[column].str.title()\n",
    "# fix uppercase \"And\"\n",
    "shootings.replace({\"manner_of_death\": {r\"And\": \"and\"}}, regex=True, inplace=True)"
   ]
  },
  {
   "cell_type": "markdown",
   "metadata": {},
   "source": [
    "#### Keep rows with at least 75% non-null values"
   ]
  },
  {
   "cell_type": "code",
   "execution_count": 20,
   "metadata": {},
   "outputs": [],
   "source": [
    "shootings.dropna(thresh=int(shootings.shape[1]*0.75), inplace=True)"
   ]
  },
  {
   "cell_type": "markdown",
   "metadata": {},
   "source": [
    "#### Replace gender, race and state columns with full names"
   ]
  },
  {
   "cell_type": "code",
   "execution_count": 21,
   "metadata": {},
   "outputs": [],
   "source": [
    "# gender\n",
    "gender_dict = {\"M\": \"Male\", \"F\": \"Female\"}\n",
    "# race\n",
    "race_keys = sorted(shootings.loc[shootings[\"race\"].notnull(), \"race\"].unique())\n",
    "race_values = sorted([\"White, non-Hispanic\", \"Black, non-Hispanic\", \"Asian\", \"Native American\", \"Hispanic\", \"Other\"])\n",
    "race_dict = {k: v for k, v in zip(race_keys, race_values)}\n",
    "# state\n",
    "state_dict = extract_states_dict(shootings[\"state\"])\n",
    "\n",
    "shootings.replace({\"gender\": gender_dict, \"race\": race_dict, \"state\": state_dict}, inplace=True)"
   ]
  },
  {
   "cell_type": "markdown",
   "metadata": {},
   "source": [
    "#### Parse column names from snake case"
   ]
  },
  {
   "cell_type": "code",
   "execution_count": 24,
   "metadata": {},
   "outputs": [],
   "source": [
    "shootings.columns = [parse_snake_case(col) for col in shootings.columns]"
   ]
  },
  {
   "cell_type": "markdown",
   "metadata": {},
   "source": [
    "#### Show final dataframe and export to `.csv`"
   ]
  },
  {
   "cell_type": "code",
   "execution_count": 25,
   "metadata": {},
   "outputs": [
    {
     "output_type": "execute_result",
     "data": {
      "text/plain": "         Date   Manner of Death       Armed   Age Gender                 Race  \\\n0  2015-01-02              Shot         Gun  53.0   Male                Asian   \n1  2015-01-02              Shot         Gun  47.0   Male  White, non-Hispanic   \n2  2015-01-03  Shot and Tasered     Unarmed  23.0   Male             Hispanic   \n3  2015-01-04              Shot  Toy Weapon  32.0   Male  White, non-Hispanic   \n4  2015-01-04              Shot    Nail Gun  39.0   Male             Hispanic   \n\n            City       State  Signs of Mental Illness Threat Level  \\\n0        Shelton  Washington                     True       Attack   \n1          Aloha      Oregon                    False       Attack   \n2        Wichita      Kansas                    False        Other   \n3  San Francisco  California                     True       Attack   \n4          Evans    Colorado                    False       Attack   \n\n          Flee  Body Camera  Longitude  Latitude  Is Geocoding Exact  \n0  Not fleeing        False   -123.122    47.247                True  \n1  Not fleeing        False   -122.892    45.487                True  \n2  Not fleeing        False    -97.281    37.695                True  \n3  Not fleeing        False   -122.422    37.763                True  \n4  Not fleeing        False   -104.692    40.384                True  ",
      "text/html": "<div>\n<style scoped>\n    .dataframe tbody tr th:only-of-type {\n        vertical-align: middle;\n    }\n\n    .dataframe tbody tr th {\n        vertical-align: top;\n    }\n\n    .dataframe thead th {\n        text-align: right;\n    }\n</style>\n<table border=\"1\" class=\"dataframe\">\n  <thead>\n    <tr style=\"text-align: right;\">\n      <th></th>\n      <th>Date</th>\n      <th>Manner of Death</th>\n      <th>Armed</th>\n      <th>Age</th>\n      <th>Gender</th>\n      <th>Race</th>\n      <th>City</th>\n      <th>State</th>\n      <th>Signs of Mental Illness</th>\n      <th>Threat Level</th>\n      <th>Flee</th>\n      <th>Body Camera</th>\n      <th>Longitude</th>\n      <th>Latitude</th>\n      <th>Is Geocoding Exact</th>\n    </tr>\n  </thead>\n  <tbody>\n    <tr>\n      <th>0</th>\n      <td>2015-01-02</td>\n      <td>Shot</td>\n      <td>Gun</td>\n      <td>53.0</td>\n      <td>Male</td>\n      <td>Asian</td>\n      <td>Shelton</td>\n      <td>Washington</td>\n      <td>True</td>\n      <td>Attack</td>\n      <td>Not fleeing</td>\n      <td>False</td>\n      <td>-123.122</td>\n      <td>47.247</td>\n      <td>True</td>\n    </tr>\n    <tr>\n      <th>1</th>\n      <td>2015-01-02</td>\n      <td>Shot</td>\n      <td>Gun</td>\n      <td>47.0</td>\n      <td>Male</td>\n      <td>White, non-Hispanic</td>\n      <td>Aloha</td>\n      <td>Oregon</td>\n      <td>False</td>\n      <td>Attack</td>\n      <td>Not fleeing</td>\n      <td>False</td>\n      <td>-122.892</td>\n      <td>45.487</td>\n      <td>True</td>\n    </tr>\n    <tr>\n      <th>2</th>\n      <td>2015-01-03</td>\n      <td>Shot and Tasered</td>\n      <td>Unarmed</td>\n      <td>23.0</td>\n      <td>Male</td>\n      <td>Hispanic</td>\n      <td>Wichita</td>\n      <td>Kansas</td>\n      <td>False</td>\n      <td>Other</td>\n      <td>Not fleeing</td>\n      <td>False</td>\n      <td>-97.281</td>\n      <td>37.695</td>\n      <td>True</td>\n    </tr>\n    <tr>\n      <th>3</th>\n      <td>2015-01-04</td>\n      <td>Shot</td>\n      <td>Toy Weapon</td>\n      <td>32.0</td>\n      <td>Male</td>\n      <td>White, non-Hispanic</td>\n      <td>San Francisco</td>\n      <td>California</td>\n      <td>True</td>\n      <td>Attack</td>\n      <td>Not fleeing</td>\n      <td>False</td>\n      <td>-122.422</td>\n      <td>37.763</td>\n      <td>True</td>\n    </tr>\n    <tr>\n      <th>4</th>\n      <td>2015-01-04</td>\n      <td>Shot</td>\n      <td>Nail Gun</td>\n      <td>39.0</td>\n      <td>Male</td>\n      <td>Hispanic</td>\n      <td>Evans</td>\n      <td>Colorado</td>\n      <td>False</td>\n      <td>Attack</td>\n      <td>Not fleeing</td>\n      <td>False</td>\n      <td>-104.692</td>\n      <td>40.384</td>\n      <td>True</td>\n    </tr>\n  </tbody>\n</table>\n</div>"
     },
     "metadata": {},
     "execution_count": 25
    }
   ],
   "source": [
    "shootings.head()"
   ]
  },
  {
   "cell_type": "code",
   "execution_count": 26,
   "metadata": {},
   "outputs": [],
   "source": [
    "shootings.to_csv(\"../output/shootings_clean.csv\")"
   ]
  }
 ]
}