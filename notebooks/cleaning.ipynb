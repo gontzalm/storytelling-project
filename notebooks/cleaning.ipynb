{
 "metadata": {
  "language_info": {
   "codemirror_mode": {
    "name": "ipython",
    "version": 3
   },
   "file_extension": ".py",
   "mimetype": "text/x-python",
   "name": "python",
   "nbconvert_exporter": "python",
   "pygments_lexer": "ipython3",
   "version": "3.8.5-final"
  },
  "orig_nbformat": 2,
  "kernelspec": {
   "name": "python_defaultSpec_1599409145098",
   "display_name": "Python 3.8.5 64-bit ('ih': conda)"
  }
 },
 "nbformat": 4,
 "nbformat_minor": 2,
 "cells": [
  {
   "cell_type": "code",
   "execution_count": 1,
   "metadata": {},
   "outputs": [],
   "source": [
    "import pandas as pd"
   ]
  },
  {
   "cell_type": "code",
   "execution_count": 5,
   "metadata": {},
   "outputs": [],
   "source": [
    "shootings = pd.read_csv(\"../input/fatal-police-shootings-data.csv\")"
   ]
  },
  {
   "cell_type": "code",
   "execution_count": 6,
   "metadata": {},
   "outputs": [
    {
     "output_type": "execute_result",
     "data": {
      "text/plain": "   id                name        date   manner_of_death       armed   age  \\\n0   3          Tim Elliot  2015-01-02              shot         gun  53.0   \n1   4    Lewis Lee Lembke  2015-01-02              shot         gun  47.0   \n2   5  John Paul Quintero  2015-01-03  shot and Tasered     unarmed  23.0   \n3   8     Matthew Hoffman  2015-01-04              shot  toy weapon  32.0   \n4   9   Michael Rodriguez  2015-01-04              shot    nail gun  39.0   \n\n  gender race           city state  signs_of_mental_illness threat_level  \\\n0      M    A        Shelton    WA                     True       attack   \n1      M    W          Aloha    OR                    False       attack   \n2      M    H        Wichita    KS                    False        other   \n3      M    W  San Francisco    CA                     True       attack   \n4      M    H          Evans    CO                    False       attack   \n\n          flee  body_camera  \n0  Not fleeing        False  \n1  Not fleeing        False  \n2  Not fleeing        False  \n3  Not fleeing        False  \n4  Not fleeing        False  ",
      "text/html": "<div>\n<style scoped>\n    .dataframe tbody tr th:only-of-type {\n        vertical-align: middle;\n    }\n\n    .dataframe tbody tr th {\n        vertical-align: top;\n    }\n\n    .dataframe thead th {\n        text-align: right;\n    }\n</style>\n<table border=\"1\" class=\"dataframe\">\n  <thead>\n    <tr style=\"text-align: right;\">\n      <th></th>\n      <th>id</th>\n      <th>name</th>\n      <th>date</th>\n      <th>manner_of_death</th>\n      <th>armed</th>\n      <th>age</th>\n      <th>gender</th>\n      <th>race</th>\n      <th>city</th>\n      <th>state</th>\n      <th>signs_of_mental_illness</th>\n      <th>threat_level</th>\n      <th>flee</th>\n      <th>body_camera</th>\n    </tr>\n  </thead>\n  <tbody>\n    <tr>\n      <th>0</th>\n      <td>3</td>\n      <td>Tim Elliot</td>\n      <td>2015-01-02</td>\n      <td>shot</td>\n      <td>gun</td>\n      <td>53.0</td>\n      <td>M</td>\n      <td>A</td>\n      <td>Shelton</td>\n      <td>WA</td>\n      <td>True</td>\n      <td>attack</td>\n      <td>Not fleeing</td>\n      <td>False</td>\n    </tr>\n    <tr>\n      <th>1</th>\n      <td>4</td>\n      <td>Lewis Lee Lembke</td>\n      <td>2015-01-02</td>\n      <td>shot</td>\n      <td>gun</td>\n      <td>47.0</td>\n      <td>M</td>\n      <td>W</td>\n      <td>Aloha</td>\n      <td>OR</td>\n      <td>False</td>\n      <td>attack</td>\n      <td>Not fleeing</td>\n      <td>False</td>\n    </tr>\n    <tr>\n      <th>2</th>\n      <td>5</td>\n      <td>John Paul Quintero</td>\n      <td>2015-01-03</td>\n      <td>shot and Tasered</td>\n      <td>unarmed</td>\n      <td>23.0</td>\n      <td>M</td>\n      <td>H</td>\n      <td>Wichita</td>\n      <td>KS</td>\n      <td>False</td>\n      <td>other</td>\n      <td>Not fleeing</td>\n      <td>False</td>\n    </tr>\n    <tr>\n      <th>3</th>\n      <td>8</td>\n      <td>Matthew Hoffman</td>\n      <td>2015-01-04</td>\n      <td>shot</td>\n      <td>toy weapon</td>\n      <td>32.0</td>\n      <td>M</td>\n      <td>W</td>\n      <td>San Francisco</td>\n      <td>CA</td>\n      <td>True</td>\n      <td>attack</td>\n      <td>Not fleeing</td>\n      <td>False</td>\n    </tr>\n    <tr>\n      <th>4</th>\n      <td>9</td>\n      <td>Michael Rodriguez</td>\n      <td>2015-01-04</td>\n      <td>shot</td>\n      <td>nail gun</td>\n      <td>39.0</td>\n      <td>M</td>\n      <td>H</td>\n      <td>Evans</td>\n      <td>CO</td>\n      <td>False</td>\n      <td>attack</td>\n      <td>Not fleeing</td>\n      <td>False</td>\n    </tr>\n  </tbody>\n</table>\n</div>"
     },
     "metadata": {},
     "execution_count": 6
    }
   ],
   "source": [
    "shootings.head()"
   ]
  },
  {
   "cell_type": "code",
   "execution_count": 7,
   "metadata": {
    "tags": []
   },
   "outputs": [
    {
     "output_type": "stream",
     "name": "stdout",
     "text": "<class 'pandas.core.frame.DataFrame'>\nRangeIndex: 5338 entries, 0 to 5337\nData columns (total 14 columns):\n #   Column                   Non-Null Count  Dtype  \n---  ------                   --------------  -----  \n 0   id                       5338 non-null   int64  \n 1   name                     5338 non-null   object \n 2   date                     5338 non-null   object \n 3   manner_of_death          5338 non-null   object \n 4   armed                    5098 non-null   object \n 5   age                      5089 non-null   float64\n 6   gender                   5336 non-null   object \n 7   race                     4731 non-null   object \n 8   city                     5338 non-null   object \n 9   state                    5338 non-null   object \n 10  signs_of_mental_illness  5338 non-null   bool   \n 11  threat_level             5338 non-null   object \n 12  flee                     5088 non-null   object \n 13  body_camera              5338 non-null   bool   \ndtypes: bool(2), float64(1), int64(1), object(10)\nmemory usage: 511.0+ KB\n"
    }
   ],
   "source": [
    "shootings.info()"
   ]
  },
  {
   "cell_type": "code",
   "execution_count": 18,
   "metadata": {},
   "outputs": [
    {
     "output_type": "execute_result",
     "data": {
      "text/plain": "id                           0\nname                         0\ndate                         0\nmanner_of_death              0\narmed                      240\nage                        249\ngender                       2\nrace                       607\ncity                         0\nstate                        0\nsigns_of_mental_illness      0\nthreat_level                 0\nflee                       250\nbody_camera                  0\ndtype: int64"
     },
     "metadata": {},
     "execution_count": 18
    }
   ],
   "source": [
    "shootings.isnull().sum()"
   ]
  },
  {
   "cell_type": "code",
   "execution_count": 19,
   "metadata": {},
   "outputs": [
    {
     "output_type": "execute_result",
     "data": {
      "text/plain": "array(['gun', 'unarmed', 'toy weapon', 'nail gun', 'knife', nan, 'shovel',\n       'hammer', 'hatchet', 'undetermined', 'sword', 'machete',\n       'box cutter', 'metal object', 'screwdriver', 'lawn mower blade',\n       'flagpole', 'guns and explosives', 'cordless drill', 'crossbow',\n       'metal pole', 'Taser', 'metal pipe', 'metal hand tool',\n       'blunt object', 'metal stick', 'sharp object', 'meat cleaver',\n       'carjack', 'chain', \"contractor's level\", 'unknown weapon',\n       'stapler', 'beer bottle', 'bean-bag gun',\n       'baseball bat and fireplace poker', 'straight edge razor',\n       'gun and knife', 'ax', 'brick', 'baseball bat', 'hand torch',\n       'chain saw', 'garden tool', 'scissors', 'pole', 'pick-axe',\n       'flashlight', 'baton', 'spear', 'chair', 'pitchfork',\n       'hatchet and gun', 'rock', 'piece of wood', 'bayonet', 'pipe',\n       'glass shard', 'motorcycle', 'pepper spray', 'metal rake',\n       'crowbar', 'oar', 'machete and gun', 'tire iron',\n       'air conditioner', 'pole and knife', 'baseball bat and bottle',\n       'fireworks', 'pen', 'chainsaw', 'gun and sword', 'gun and car',\n       'vehicle', 'pellet gun', 'claimed to be armed', 'BB gun',\n       'incendiary device', 'samurai sword', 'bow and arrow',\n       'gun and vehicle', 'vehicle and gun', 'wrench', 'walking stick',\n       'barstool', 'BB gun and vehicle', 'wasp spray', 'air pistol',\n       'Airsoft pistol', 'baseball bat and knife', 'vehicle and machete',\n       'ice pick', 'car, knife and mace'], dtype=object)"
     },
     "metadata": {},
     "execution_count": 19
    }
   ],
   "source": [
    "shootings[\"armed\"].unique()"
   ]
  },
  {
   "cell_type": "code",
   "execution_count": 20,
   "metadata": {},
   "outputs": [
    {
     "output_type": "execute_result",
     "data": {
      "text/plain": "gun               2997\nknife              780\nunarmed            318\nundetermined       221\ntoy weapon         177\n                  ... \nbow and arrow        1\nwasp spray           1\nwalking stick        1\nnail gun             1\nAirsoft pistol       1\nName: armed, Length: 92, dtype: int64"
     },
     "metadata": {},
     "execution_count": 20
    }
   ],
   "source": [
    "shootings[\"armed\"].value_counts()"
   ]
  },
  {
   "cell_type": "code",
   "execution_count": 22,
   "metadata": {},
   "outputs": [
    {
     "output_type": "execute_result",
     "data": {
      "text/plain": "0       2015-01-02\n1       2015-01-02\n2       2015-01-03\n3       2015-01-04\n4       2015-01-04\n           ...    \n5333    2020-05-20\n5334    2020-05-24\n5335    2020-05-25\n5336    2020-05-25\n5337    2020-05-26\nName: date, Length: 5338, dtype: object"
     },
     "metadata": {},
     "execution_count": 22
    }
   ],
   "source": [
    "shootings[\"date\"]"
   ]
  },
  {
   "cell_type": "code",
   "execution_count": null,
   "metadata": {},
   "outputs": [],
   "source": []
  }
 ]
}